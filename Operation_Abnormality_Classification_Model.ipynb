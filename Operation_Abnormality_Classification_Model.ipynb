{
 "cells": [
  {
   "cell_type": "code",
   "execution_count": 2,
   "metadata": {},
   "outputs": [
    {
     "name": "stderr",
     "output_type": "stream",
     "text": [
      "C:\\Users\\chenyuxiang\\AppData\\Local\\Continuum\\anaconda3\\lib\\site-packages\\sklearn\\cross_validation.py:41: DeprecationWarning: This module was deprecated in version 0.18 in favor of the model_selection module into which all the refactored classes and functions are moved. Also note that the interface of the new CV iterators are different from that of this module. This module will be removed in 0.20.\n",
      "  \"This module will be removed in 0.20.\", DeprecationWarning)\n"
     ]
    }
   ],
   "source": [
    "import pandas as pd\n",
    "import numpy as np\n",
    "import time  \n",
    "from sklearn import metrics  \n",
    "import pickle as pickle  \n",
    "from sklearn.cross_validation import train_test_split "
   ]
  },
  {
   "cell_type": "code",
   "execution_count": 1,
   "metadata": {},
   "outputs": [],
   "source": [
    "def read_data(data_file_path):  \n",
    "    \n",
    "    training_df = pd.read_csv(data_file_path, header=0)\n",
    "    feature_cols = ['T0101','T0102','T0201','T0202','T0203','T0204','T0205','T0206','T0207','T0208','T0209','T0210','T0211','T0212','T0213',\n",
    "'T0301','T0302','T0303','T0304','T0305','T0306','T0307','T0308','T0309']\n",
    "    x = training_df[feature_cols]\n",
    "    y = training_df['OPERATION_NORMALITY']\n",
    "    x_train,x_test, y_train, y_test = train_test_split(x, y, random_state=1) \n",
    "    \n",
    "    return training_df, x_train, y_train, x_test, y_test"
   ]
  },
  {
   "cell_type": "code",
   "execution_count": 3,
   "metadata": {},
   "outputs": [],
   "source": [
    "data_file = \"C:/Users/chenyuxiang/Desktop/Operation_Normality_all_data.csv\"  \n",
    "\n",
    "all_data_df, train_x, train_y, test_x, test_y = read_data(data_file)"
   ]
  },
  {
   "cell_type": "code",
   "execution_count": 9,
   "metadata": {},
   "outputs": [
    {
     "name": "stdout",
     "output_type": "stream",
     "text": [
      "reading training and testing data...\n",
      "******************* NB ********************\n",
      "training took 4.166000s!\n",
      "accuracy: 96.36%\n",
      "******************* LR ********************\n",
      "training took 10.242000s!\n",
      "accuracy: 97.15%\n",
      "******************* RF ********************\n",
      "training took 8.828000s!\n",
      "accuracy: 97.15%\n",
      "******************* DT ********************\n",
      "training took 4.024000s!\n",
      "accuracy: 97.14%\n",
      "******************* GBDT ********************\n",
      "training took 157.989000s!\n",
      "accuracy: 97.15%\n"
     ]
    }
   ],
   "source": [
    "import time  \n",
    "from sklearn import metrics  \n",
    "import pickle as pickle  \n",
    "import pandas as pd\n",
    "\n",
    "from sklearn.cross_validation import train_test_split  #引用交叉验证  \n",
    "\n",
    "# 定义8种不同的分类学习模型、\n",
    "\n",
    "# Multinomial Naive Bayes Classifier  \n",
    "def naive_bayes_classifier(train_x, train_y):  \n",
    "    from sklearn.naive_bayes import MultinomialNB  \n",
    "    model = MultinomialNB(alpha=0.01)  \n",
    "    model.fit(train_x, train_y)  \n",
    "    return model  \n",
    "  \n",
    "  \n",
    "# KNN Classifier  \n",
    "def knn_classifier(train_x, train_y):  \n",
    "    from sklearn.neighbors import KNeighborsClassifier  \n",
    "    model = KNeighborsClassifier()  \n",
    "    model.fit(train_x, train_y)  \n",
    "    return model  \n",
    "  \n",
    "  \n",
    "# Logistic Regression Classifier  \n",
    "def logistic_regression_classifier(train_x, train_y):  \n",
    "    from sklearn.linear_model import LogisticRegression  \n",
    "    model = LogisticRegression(penalty='l2')  \n",
    "    model.fit(train_x, train_y)  \n",
    "    return model  \n",
    "  \n",
    "  \n",
    "# Random Forest Classifier  \n",
    "def random_forest_classifier(train_x, train_y):  \n",
    "    from sklearn.ensemble import RandomForestClassifier  \n",
    "    model = RandomForestClassifier(n_estimators=8)  \n",
    "    model.fit(train_x, train_y)  \n",
    "    return model  \n",
    "  \n",
    "  \n",
    "# Decision Tree Classifier  \n",
    "def decision_tree_classifier(train_x, train_y):  \n",
    "    from sklearn import tree  \n",
    "    model = tree.DecisionTreeClassifier()  \n",
    "    model.fit(train_x, train_y)  \n",
    "    return model  \n",
    "  \n",
    "  \n",
    "# GBDT(Gradient Boosting Decision Tree) Classifier  \n",
    "def gradient_boosting_classifier(train_x, train_y):  \n",
    "    from sklearn.ensemble import GradientBoostingClassifier  \n",
    "    model = GradientBoostingClassifier(n_estimators=200)  \n",
    "    model.fit(train_x, train_y)  \n",
    "    return model  \n",
    "  \n",
    "  \n",
    "# SVM Classifier  \n",
    "def svm_classifier(train_x, train_y):  \n",
    "    from sklearn.svm import SVC  \n",
    "    model = SVC(kernel='rbf', probability=True)  \n",
    "    model.fit(train_x, train_y)  \n",
    "    return model  \n",
    "  \n",
    "# SVM Classifier using cross validation  \n",
    "def svm_cross_validation(train_x, train_y):  \n",
    "    from sklearn.grid_search import GridSearchCV  \n",
    "    from sklearn.svm import SVC  \n",
    "    model = SVC(kernel='rbf', probability=True)  \n",
    "    param_grid = {'C': [1e-3, 1e-2, 1e-1, 1, 10, 100, 1000], 'gamma': [0.001, 0.0001]}  \n",
    "    grid_search = GridSearchCV(model, param_grid, n_jobs = 1, verbose=1)  \n",
    "    grid_search.fit(train_x, train_y)  \n",
    "    best_parameters = grid_search.best_estimator_.get_params()  \n",
    "    for para, val in list(best_parameters.items()):  \n",
    "        print(para, val)  \n",
    "    model = SVC(kernel='rbf', C=best_parameters['C'], gamma=best_parameters['gamma'], probability=True)  \n",
    "    model.fit(train_x, train_y)  \n",
    "    return model  \n",
    "  \n",
    " \n",
    "thresh = 0.5  \n",
    "\n",
    "model_save = {}  \n",
    "test_classifiers = ['NB', 'LR', 'RF', 'DT', 'GBDT']  \n",
    "#test_classifiers = ['NB', 'KNN', 'LR', 'RF', 'DT', 'SVM','SVMCV', 'GBDT']  \n",
    "classifiers = {'NB':naive_bayes_classifier,   \n",
    "                  'KNN':knn_classifier,  \n",
    "                   'LR':logistic_regression_classifier,  \n",
    "                   'RF':random_forest_classifier,  \n",
    "                   'DT':decision_tree_classifier,  \n",
    "                  'SVM':svm_classifier,  \n",
    "                'SVMCV':svm_cross_validation,  \n",
    "                 'GBDT':gradient_boosting_classifier  \n",
    "}  \n",
    "      \n",
    "print('reading training and testing data...')  \n",
    "all_data, train_x, train_y, test_x, test_y = read_data(data_file)  \n",
    "      \n",
    "for classifier in test_classifiers:  \n",
    "    print('******************* %s ********************' % classifier)  \n",
    "    start_time = time.time()  \n",
    "    model = classifiers[classifier](train_x, train_y)  \n",
    "    print('training took %fs!' % (time.time() - start_time))  \n",
    "    predict = model.predict(test_x)  \n",
    "    model_save[classifier] = model  \n",
    "    #precision = metrics.precision_score(test_y, predict)  \n",
    "    #recall = metrics.recall_score(test_y, predict)  \n",
    "    #print('precision: %.2f%%, recall: %.2f%%' % (100 * precision, 100 * recall))  \n",
    "    accuracy = metrics.accuracy_score(test_y, predict)  \n",
    "    print('accuracy: %.2f%%' % (100 * accuracy)) "
   ]
  },
  {
   "cell_type": "code",
   "execution_count": 5,
   "metadata": {},
   "outputs": [
    {
     "data": {
      "text/plain": [
       "pandas.core.series.Series"
      ]
     },
     "execution_count": 5,
     "metadata": {},
     "output_type": "execute_result"
    }
   ],
   "source": [
    "type(train_y)"
   ]
  },
  {
   "cell_type": "code",
   "execution_count": 9,
   "metadata": {},
   "outputs": [],
   "source": [
    "a='887'"
   ]
  },
  {
   "cell_type": "code",
   "execution_count": 13,
   "metadata": {},
   "outputs": [
    {
     "ename": "AttributeError",
     "evalue": "'str' object has no attribute 'reverse'",
     "output_type": "error",
     "traceback": [
      "\u001b[0;31m---------------------------------------------------------------------------\u001b[0m",
      "\u001b[0;31mAttributeError\u001b[0m                            Traceback (most recent call last)",
      "\u001b[0;32m<ipython-input-13-b06ca20173ac>\u001b[0m in \u001b[0;36m<module>\u001b[0;34m()\u001b[0m\n\u001b[0;32m----> 1\u001b[0;31m \u001b[0;32mfor\u001b[0m \u001b[0mi\u001b[0m \u001b[0;32min\u001b[0m \u001b[0ma\u001b[0m\u001b[0;34m.\u001b[0m\u001b[0mreverse\u001b[0m\u001b[0;34m(\u001b[0m\u001b[0;34m)\u001b[0m\u001b[0;34m:\u001b[0m\u001b[0;34m\u001b[0m\u001b[0m\n\u001b[0m\u001b[1;32m      2\u001b[0m     \u001b[0mprint\u001b[0m\u001b[0;34m(\u001b[0m\u001b[0mi\u001b[0m\u001b[0;34m)\u001b[0m\u001b[0;34m\u001b[0m\u001b[0m\n\u001b[1;32m      3\u001b[0m     \u001b[0mprint\u001b[0m\u001b[0;34m(\u001b[0m\u001b[0mtype\u001b[0m\u001b[0;34m(\u001b[0m\u001b[0mi\u001b[0m\u001b[0;34m)\u001b[0m\u001b[0;34m)\u001b[0m\u001b[0;34m\u001b[0m\u001b[0m\n",
      "\u001b[0;31mAttributeError\u001b[0m: 'str' object has no attribute 'reverse'"
     ]
    }
   ],
   "source": [
    "for i in a.reverse():\n",
    "    print(i)\n",
    "    print(type(i))"
   ]
  },
  {
   "cell_type": "code",
   "execution_count": null,
   "metadata": {},
   "outputs": [],
   "source": []
  }
 ],
 "metadata": {
  "kernelspec": {
   "display_name": "Python 3",
   "language": "python",
   "name": "python3"
  },
  "language_info": {
   "codemirror_mode": {
    "name": "ipython",
    "version": 3
   },
   "file_extension": ".py",
   "mimetype": "text/x-python",
   "name": "python",
   "nbconvert_exporter": "python",
   "pygments_lexer": "ipython3",
   "version": "3.6.4"
  }
 },
 "nbformat": 4,
 "nbformat_minor": 2
}
