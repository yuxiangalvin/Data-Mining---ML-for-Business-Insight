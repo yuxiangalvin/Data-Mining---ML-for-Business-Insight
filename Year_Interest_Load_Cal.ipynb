{
 "cells": [
  {
   "cell_type": "code",
   "execution_count": 13,
   "metadata": {},
   "outputs": [],
   "source": [
    "# Borrow money for year but give back every month\\\n",
    "pay_back = [4816, 4851, 4812, 4729, 4693, 4618, 4516, 4489, 4416, 4360, 4291, 4231]\n",
    "borrow = 50000\n"
   ]
  },
  {
   "cell_type": "code",
   "execution_count": 17,
   "metadata": {
    "scrolled": true
   },
   "outputs": [
    {
     "name": "stdout",
     "output_type": "stream",
     "text": [
      "4166.666666666667\n",
      "45184\n",
      "7932.0\n",
      "40333\n",
      "11293.083333333334\n",
      "35521\n",
      "14253.166666666668\n",
      "30792\n",
      "16819.166666666668\n",
      "26099\n",
      "18994.083333333336\n",
      "21481\n",
      "20784.166666666668\n",
      "16965\n",
      "22197.916666666668\n",
      "12476\n",
      "23237.583333333336\n",
      "8060\n",
      "23909.250000000004\n",
      "3700\n",
      "24217.583333333336\n",
      "-591\n",
      "24168.333333333336\n",
      "-4822\n",
      "0.19951727467071234\n"
     ]
    }
   ],
   "source": [
    "borrow = 50000\n",
    "benefit = 0\n",
    "for i in range(len(pay_back)):\n",
    "    benefit += borrow / 12\n",
    "    borrow = borrow - pay_back[i]\n",
    "    print(benefit)\n",
    "    print(borrow)\n",
    "\n",
    "\n",
    "\n",
    "print((sum(pay_back) - 50000)/benefit)\n"
   ]
  },
  {
   "cell_type": "code",
   "execution_count": null,
   "metadata": {},
   "outputs": [],
   "source": []
  }
 ],
 "metadata": {
  "kernelspec": {
   "display_name": "Python 3",
   "language": "python",
   "name": "python3"
  },
  "language_info": {
   "codemirror_mode": {
    "name": "ipython",
    "version": 3
   },
   "file_extension": ".py",
   "mimetype": "text/x-python",
   "name": "python",
   "nbconvert_exporter": "python",
   "pygments_lexer": "ipython3",
   "version": "3.6.5"
  }
 },
 "nbformat": 4,
 "nbformat_minor": 2
}
